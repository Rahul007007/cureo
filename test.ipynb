{
 "cells": [
  {
   "cell_type": "code",
   "execution_count": 1,
   "metadata": {},
   "outputs": [],
   "source": [
    "class LogInputs:\n",
    "    def __init__(self, timestamp, log_type, severity):\n",
    "        self.timestamp = timestamp\n",
    "        self.log_type = log_type\n",
    "        self.severity = severity"
   ]
  },
  {
   "cell_type": "code",
   "execution_count": 24,
   "metadata": {},
   "outputs": [],
   "source": [
    "class LogManipulation:\n",
    "    def __init__(self):\n",
    "        self.logs = []\n",
    "    \n",
    "    def log_submit(self, timestamp, log_type, severity):\n",
    "        self.logs.append(LogInputs(timestamp, log_type, severity))\n",
    "        return \"No output\\n\"\n",
    "    def compute(self, values):\n",
    "        if not values:\n",
    "            return \"Min: 0.0, Max: 0.0, Mean: 0.0\\n\"\n",
    "        log_severity = [val for val in values]\n",
    "        return f\"Min: {round(min(log_severity),6)}, Max: {round(max(log_severity),6)}, Mean: {round(sum(log_severity)/len(log_severity),6)}\\n\"\n",
    "    \n",
    "    def compute_for_log_type(self, log_type):\n",
    "        values = [log.severity for log in self.logs if log.log_type == log_type]\n",
    "        return self.compute(values)\n",
    "    \n",
    "    def compute_for_before_timestamp(self, timestamp):\n",
    "        values = [log.severity for log in self.logs if log.timestamp < timestamp]\n",
    "        return self.compute(values)\n",
    "    \n",
    "    def compute_for_after_timestamp(self, timestamp):\n",
    "        values = [log.severity for log in self.logs if log.timestamp > timestamp]\n",
    "        return self.compute(values)\n",
    "    \n",
    "    def compute_for_before_log_type(self, log_type, timestamp):\n",
    "        values = [log.severity for log in self.logs if log.timestamp < timestamp and log.log_type == log_type]\n",
    "        return self.compute(values)\n",
    "    \n",
    "    def compute_for_after_log_type(self, log_type, timestamp):\n",
    "        values = [log.severity for log in self.logs if log.timestamp > timestamp and log.log_type == log_type]\n",
    "        return self.compute(values)\n",
    "    \n",
    "logmp = LogManipulation()\n",
    "\n",
    "with open('input.txt', 'r') as infile, open('output.txt', 'w') as outfile:\n",
    "    errors = infile.readlines()\n",
    "    for i in errors:\n",
    "\n",
    "        split_arr = i.split()\n",
    "        cmd = split_arr[0]\n",
    "\n",
    "        if cmd =='1':\n",
    "            timestamp, log_type, severity = split_arr[1].split(';')\n",
    "            outfile.write(logmp.log_submit(int(timestamp), log_type, float(severity)))\n",
    "        elif cmd == '2':\n",
    "            log_type = split_arr[1]\n",
    "            outfile.write(logmp.compute_for_log_type(log_type))\n",
    "        elif cmd == '3':\n",
    "            timestamp = int(split_arr[-1])\n",
    "            if split_arr[1].startswith(\"BEFORE\"):\n",
    "                outfile.write(logmp.compute_for_before_timestamp(timestamp))\n",
    "            else:\n",
    "                outfile.write(logmp.compute_for_after_timestamp(timestamp))\n",
    "        elif cmd == '4':\n",
    "            log_type, timestamp = split_arr[-2], int(split_arr[-1])\n",
    "            if split_arr[1].startswith(\"BEFORE\"):\n",
    "                outfile.write(logmp.compute_for_before_log_type(log_type, timestamp))\n",
    "            else:\n",
    "                outfile.write(logmp.compute_for_after_log_type(log_type, timestamp))\n",
    "\n",
    "    "
   ]
  },
  {
   "cell_type": "code",
   "execution_count": null,
   "metadata": {},
   "outputs": [],
   "source": []
  }
 ],
 "metadata": {
  "kernelspec": {
   "display_name": "PyTorchenv",
   "language": "python",
   "name": "python3"
  },
  "language_info": {
   "codemirror_mode": {
    "name": "ipython",
    "version": 3
   },
   "file_extension": ".py",
   "mimetype": "text/x-python",
   "name": "python",
   "nbconvert_exporter": "python",
   "pygments_lexer": "ipython3",
   "version": "3.10.9"
  }
 },
 "nbformat": 4,
 "nbformat_minor": 2
}
